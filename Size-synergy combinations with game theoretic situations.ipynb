{
 "cells": [
  {
   "cell_type": "markdown",
   "metadata": {},
   "source": [
    "## <span style='font-family:\"Times New Roman\"'> ### Figure 2: Size-synergy combinations in MGS I with game theoretic situations\n",
    "## <span style='font-family:\"Times New Roman\"'> The code identifies and plots size-synergy combinations in MGS I in which agents can face game theoretic situations.\n",
    "\n",
    "## <span style='font-family:\"Times New Roman\"'> Garry Sotnik, April 25th, 2021."
   ]
  },
  {
   "cell_type": "code",
   "execution_count": null,
   "metadata": {},
   "outputs": [],
   "source": [
    "%matplotlib inline\n",
    "import matplotlib.pyplot as plt\n",
    "import numpy as np\n",
    "from numpy import arange"
   ]
  },
  {
   "cell_type": "markdown",
   "metadata": {},
   "source": [
    "Set the limit for effort (e) that an agent can contribute when in a group and create an 8x100 matrix of zeroes (GT) to store the results. "
   ]
  },
  {
   "cell_type": "code",
   "execution_count": null,
   "metadata": {
    "scrolled": true
   },
   "outputs": [],
   "source": [
    "e = 1\n",
    "GT = np.zeros((8, 100))"
   ]
  },
  {
   "cell_type": "markdown",
   "metadata": {},
   "source": [
    "Simulate through all the (group) size-synergy (from prosocial common-pool behavior) combinations to identify those in which agents can face Prisoner's Dilemma (T>R>P>S) or coordination game (R>T, R,P) situations."
   ]
  },
  {
   "cell_type": "code",
   "execution_count": null,
   "metadata": {},
   "outputs": [],
   "source": [
    "for size in range(2,10):\n",
    "    for v in arange(0.5, 10, 0.1):\n",
    "        v = round(v, 3)\n",
    "        T = round(e+(v*(e*1/size)), 3)\n",
    "        R = round(v*(e*size/size), 3)\n",
    "        P = e\n",
    "        S = round(v*(e*1/size), 3)\n",
    "        if( (T > R) and (R > P) and (P > S) ):\n",
    "            s = int(v*10)\n",
    "            GT[9-size][s] = .5\n",
    "        if( (R > T) and (P > S)):\n",
    "            s = int(v*10)\n",
    "            GT[9-size][s] = 1"
   ]
  },
  {
   "cell_type": "markdown",
   "metadata": {},
   "source": [
    "Plot the matrix using a gray scale and output the result as a .jpg file."
   ]
  },
  {
   "cell_type": "code",
   "execution_count": null,
   "metadata": {},
   "outputs": [],
   "source": [
    "fig, ax = plt.subplots()\n",
    "ax.set_xticks([10, 20, 30, 40, 50, 60, 70, 80, 90, 100], minor = False)\n",
    "ax.set_xticklabels([1, 2, 3, 4, 5, 6, 7, 8, 9, 10])\n",
    "ax.xaxis.grid(True, which='major')\n",
    "\n",
    "ax.set_yticks([0.5, 1.5, 2.5, 3.5, 4.5, 5.5, 6.5], minor = True)\n",
    "ax.set_yticklabels([10, 9, 8, 7, 6, 5, 4, 3, 2])\n",
    "ax.yaxis.grid(True, which = 'minor')\n",
    "\n",
    "csfont = {'fontname':'Times New Roman'}\n",
    "plt.ylabel('Size', fontsize = 12, **csfont)\n",
    "plt.xlabel('Synergy', fontsize = 12, **csfont)\n",
    "plt.imshow(GT, cmap='gray_r', interpolation='none', aspect = 'auto')\n",
    "plt.savefig(\"GT situations.jpg\", dpi = 600)"
   ]
  }
 ],
 "metadata": {
  "kernelspec": {
   "display_name": "Python 3",
   "language": "python",
   "name": "python3"
  },
  "language_info": {
   "codemirror_mode": {
    "name": "ipython",
    "version": 3
   },
   "file_extension": ".py",
   "mimetype": "text/x-python",
   "name": "python",
   "nbconvert_exporter": "python",
   "pygments_lexer": "ipython3",
   "version": "3.7.6"
  }
 },
 "nbformat": 4,
 "nbformat_minor": 4
}
