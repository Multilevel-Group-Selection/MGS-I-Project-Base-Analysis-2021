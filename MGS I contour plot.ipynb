{
 "cells": [
  {
   "cell_type": "markdown",
   "metadata": {},
   "source": [
    "**Name:** MGS I contour plot  \n",
    "**Description:** The Python code for generating MGS I's contour plots.  \n",
    "**Author:** G. Sotnik  \n",
    "\n",
    "Set working directory to source file location"
   ]
  },
  {
   "cell_type": "code",
   "execution_count": null,
   "metadata": {},
   "outputs": [],
   "source": [
    "library(rstudioapi)\n",
    "setwd(dirname(getActiveDocumentContext()$path))\n",
    "getwd()"
   ]
  },
  {
   "cell_type": "markdown",
   "metadata": {},
   "source": [
    "Import relevant library."
   ]
  },
  {
   "cell_type": "code",
   "execution_count": null,
   "metadata": {},
   "outputs": [],
   "source": [
    "library(akima)\n",
    "library(extrafont)\n",
    "library(ggplot2)\n",
    "library(hrbrthemes)\n",
    "library(reshape2)"
   ]
  },
  {
   "cell_type": "markdown",
   "metadata": {},
   "source": [
    "### Prepare data"
   ]
  },
  {
   "cell_type": "markdown",
   "metadata": {},
   "source": [
    "Load data."
   ]
  },
  {
   "cell_type": "code",
   "execution_count": null,
   "metadata": {},
   "outputs": [],
   "source": [
    "df <- read.csv(file = \"final.csv\", header = TRUE, stringsAsFactors = FALSE)"
   ]
  },
  {
   "cell_type": "code",
   "execution_count": null,
   "metadata": {},
   "outputs": [],
   "source": [
    "fld <- with(df, interp(x = x, y = y, z = z))"
   ]
  },
  {
   "cell_type": "markdown",
   "metadata": {},
   "source": [
    "Prepare data in long format"
   ]
  },
  {
   "cell_type": "code",
   "execution_count": null,
   "metadata": {},
   "outputs": [],
   "source": [
    "df <- melt(fld$z, na.rm = TRUE)\n",
    "names(df) <- c(\"x\", \"y\", \"z\")\n",
    "df$x <- fld$x[df$x]\n",
    "df$y <- fld$y[df$y]"
   ]
  },
  {
   "cell_type": "markdown",
   "metadata": {},
   "source": [
    "### Create plot"
   ]
  },
  {
   "cell_type": "code",
   "execution_count": null,
   "metadata": {},
   "outputs": [],
   "source": [
    "tiff(\"ContourMap_IPC30_Dens0.3.tiff\", units=\"in\", width=4, height=4, res=300)\n",
    "ggplot(data = df,\n",
    "       aes(x = x,\n",
    "           y = y,\n",
    "           z = z)) +\n",
    "  ggtitle(\"IPC: 30%, D: 0.3\") +\n",
    "  geom_tile(aes(fill = z)) +\n",
    "  stat_contour() +\n",
    "  \n",
    "  # Text in plot.\n",
    "  geom_text(x=0.6, y=0.5, label=\"A\", family = \"Times New Roman\", size = 5) +\n",
    "  geom_text(x=0.6, y=8.0, label=\"B\", family = \"Times New Roman\", size = 5) +\n",
    "  geom_text(x=6.0, y=8.0, label=\"C\", family = \"Times New Roman\", size = 5) +\n",
    "  geom_text(x=6.0, y=4.0, label=\"D\", family = \"Times New Roman\", size = 5) +  \n",
    "  \n",
    "  # Dashed line.\n",
    "  geom_vline(xintercept=1,\n",
    "             linetype=\"dashed\",\n",
    "             color = \"black\") +\n",
    "  \n",
    "  # Legend\n",
    "  scale_fill_continuous(name = \"Percent (%)\",\n",
    "                        low = \"white\",\n",
    "                        high = \"orange\",\n",
    "                        limits=c(0, 100),\n",
    "                        breaks=seq(0,100,20)) +\n",
    "  \n",
    "  # Axis\n",
    "  scale_y_continuous(name = \"Synergy\",\n",
    "                     breaks=seq(0,10,1),\n",
    "                     sec.axis = sec_axis(trans=~.*1,breaks=seq(0,10,1))) +\n",
    "  scale_x_continuous(name = \"Pressure\",\n",
    "                     breaks=seq(0,10,1),\n",
    "                     sec.axis = sec_axis(trans=~.*1,breaks=seq(0,10,1))) +\n",
    "  theme(plot.title = element_text(family=\"Times New Roman\",\n",
    "                                  hjust=.88,\n",
    "                                  vjust=-75),\n",
    "        axis.text.x = element_text(family=\"Times New Roman\"),\n",
    "        axis.text.y = element_text(family=\"Times New Roman\"),\n",
    "        axis.title.x = element_text(family=\"Times New Roman\"),\n",
    "        axis.title.y = element_text(family=\"Times New Roman\"),\n",
    "        axis.line = element_line(colour = \"black\"),\n",
    "        \n",
    "        # Legend.\n",
    "        legend.title = element_text(family=\"Times New Roman\"),\n",
    "        legend.text = element_text(family=\"Times New Roman\"),\n",
    "        legend.position = c(.80,.45),\n",
    "        legend.background = element_rect(fill = \"white\"),\n",
    "        \n",
    "        # Grid.\n",
    "        panel.grid.major = element_blank(),\n",
    "        panel.grid.minor = element_blank())\n",
    "dev.off()"
   ]
  }
 ],
 "metadata": {
  "kernelspec": {
   "display_name": "R",
   "language": "R",
   "name": "ir"
  },
  "language_info": {
   "codemirror_mode": "r",
   "file_extension": ".r",
   "mimetype": "text/x-r-source",
   "name": "R",
   "pygments_lexer": "r",
   "version": "3.6.1"
  }
 },
 "nbformat": 4,
 "nbformat_minor": 4
}
